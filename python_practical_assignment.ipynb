{
  "nbformat": 4,
  "nbformat_minor": 0,
  "metadata": {
    "colab": {
      "provenance": []
    },
    "kernelspec": {
      "name": "python3",
      "display_name": "Python 3"
    },
    "language_info": {
      "name": "python"
    }
  },
  "cells": [
    {
      "cell_type": "markdown",
      "source": [
        "Write a Python program to print \"Hello, World!"
      ],
      "metadata": {
        "id": "0gg3lprjgOwe"
      }
    },
    {
      "cell_type": "code",
      "execution_count": null,
      "metadata": {
        "colab": {
          "base_uri": "https://localhost:8080/"
        },
        "id": "Wn9oDpCggCn3",
        "outputId": "420fb431-149e-443e-9e36-cd8d0e360a96"
      },
      "outputs": [
        {
          "output_type": "stream",
          "name": "stdout",
          "text": [
            "hello world!\n"
          ]
        }
      ],
      "source": [
        "print('hello world!')"
      ]
    },
    {
      "cell_type": "markdown",
      "source": [
        "Write a Python program that displays your name and age"
      ],
      "metadata": {
        "id": "gdoYjtvbgTSh"
      }
    },
    {
      "cell_type": "code",
      "source": [
        "name =\"akshay\"\n",
        "age = 23\n",
        "print(name,age)"
      ],
      "metadata": {
        "colab": {
          "base_uri": "https://localhost:8080/"
        },
        "id": "Tf7ZJNYEgNcY",
        "outputId": "46a4bce5-c514-4e41-cbd0-79105ad237d4"
      },
      "execution_count": null,
      "outputs": [
        {
          "output_type": "stream",
          "name": "stdout",
          "text": [
            "akshay 23\n"
          ]
        }
      ]
    },
    {
      "cell_type": "markdown",
      "source": [
        "Write code to print all the pre-defined keywords in Python using the keyword library"
      ],
      "metadata": {
        "id": "GwluPNfIhklZ"
      }
    },
    {
      "cell_type": "code",
      "source": [
        "help('keywords')"
      ],
      "metadata": {
        "colab": {
          "base_uri": "https://localhost:8080/"
        },
        "id": "HNGKcIt8hfkJ",
        "outputId": "8c822a5e-011e-43e3-8753-ff6c9f3dc7f1"
      },
      "execution_count": null,
      "outputs": [
        {
          "output_type": "stream",
          "name": "stdout",
          "text": [
            "\n",
            "Here is a list of the Python keywords.  Enter any keyword to get more help.\n",
            "\n",
            "False               class               from                or\n",
            "None                continue            global              pass\n",
            "True                def                 if                  raise\n",
            "and                 del                 import              return\n",
            "as                  elif                in                  try\n",
            "assert              else                is                  while\n",
            "async               except              lambda              with\n",
            "await               finally             nonlocal            yield\n",
            "break               for                 not                 \n",
            "\n"
          ]
        }
      ]
    },
    {
      "cell_type": "markdown",
      "source": [
        "Write a program that checks if a given word is a Python keyword."
      ],
      "metadata": {
        "id": "m1omG3AEiFAb"
      }
    },
    {
      "cell_type": "code",
      "source": [
        "word=input('enter a word to check:')\n",
        "if keyword.iskeyword(word):\n",
        "\n",
        "  print(f\" yes the {word} is python keyword\")\n",
        "else:\n",
        "  print(f\"no the {word} is not python keyword\")\n"
      ],
      "metadata": {
        "colab": {
          "base_uri": "https://localhost:8080/"
        },
        "id": "HnJ9fnZDiRXC",
        "outputId": "ae40a37e-8ec5-48c9-ee90-58d80edfe30a"
      },
      "execution_count": null,
      "outputs": [
        {
          "output_type": "stream",
          "name": "stdout",
          "text": [
            "enter a word to check:i\n",
            "no the i is not python keyword\n"
          ]
        }
      ]
    },
    {
      "cell_type": "markdown",
      "source": [
        "Create a list and tuple in Python, and demonstrate how attempting to change an element works differently\n",
        "for each."
      ],
      "metadata": {
        "id": "6JkiKXChm7Vb"
      }
    },
    {
      "cell_type": "code",
      "source": [
        "list_cont=[1,2,3,4,5,6]\n",
        "\n",
        "tuple_cont=(1,2,3,4,5,8)\n"
      ],
      "metadata": {
        "id": "b0OEnUNtm1OC"
      },
      "execution_count": null,
      "outputs": []
    },
    {
      "cell_type": "code",
      "source": [
        "list_cont[0]"
      ],
      "metadata": {
        "colab": {
          "base_uri": "https://localhost:8080/"
        },
        "id": "nI2CNrcaphL6",
        "outputId": "8a324f3c-de1a-4a12-ef67-b3af4228251b"
      },
      "execution_count": null,
      "outputs": [
        {
          "output_type": "execute_result",
          "data": {
            "text/plain": [
              "1"
            ]
          },
          "metadata": {},
          "execution_count": 28
        }
      ]
    },
    {
      "cell_type": "code",
      "source": [
        "list_cont[-1]"
      ],
      "metadata": {
        "colab": {
          "base_uri": "https://localhost:8080/"
        },
        "id": "p9BJbEeUpsoe",
        "outputId": "74f57e40-47de-4cf5-c539-0662013fd6cd"
      },
      "execution_count": null,
      "outputs": [
        {
          "output_type": "execute_result",
          "data": {
            "text/plain": [
              "6"
            ]
          },
          "metadata": {},
          "execution_count": 32
        }
      ]
    },
    {
      "cell_type": "code",
      "source": [
        "tuple_cont(1)"
      ],
      "metadata": {
        "colab": {
          "base_uri": "https://localhost:8080/",
          "height": 141
        },
        "id": "Ujto_cbjpxcW",
        "outputId": "616f7f48-7fa7-468e-ddb1-510835ca875e"
      },
      "execution_count": null,
      "outputs": [
        {
          "output_type": "error",
          "ename": "NameError",
          "evalue": "name 'tuple_cont' is not defined",
          "traceback": [
            "\u001b[0;31m---------------------------------------------------------------------------\u001b[0m",
            "\u001b[0;31mNameError\u001b[0m                                 Traceback (most recent call last)",
            "\u001b[0;32m/tmp/ipython-input-31-3804876113.py\u001b[0m in \u001b[0;36m<cell line: 0>\u001b[0;34m()\u001b[0m\n\u001b[0;32m----> 1\u001b[0;31m \u001b[0mtuple_cont\u001b[0m\u001b[0;34m(\u001b[0m\u001b[0;36m1\u001b[0m\u001b[0;34m)\u001b[0m\u001b[0;34m\u001b[0m\u001b[0;34m\u001b[0m\u001b[0m\n\u001b[0m",
            "\u001b[0;31mNameError\u001b[0m: name 'tuple_cont' is not defined"
          ]
        }
      ]
    },
    {
      "cell_type": "markdown",
      "source": [
        "Write a function to demonstrate the behavior of mutable and immutable arguments."
      ],
      "metadata": {
        "id": "Uy0QnyeLqSVr"
      }
    },
    {
      "cell_type": "code",
      "source": [
        "list_cont=[12,13,55,44,66]\n",
        "\n",
        "# mutable argument\n"
      ],
      "metadata": {
        "id": "OLoJXfjWqI6Z"
      },
      "execution_count": null,
      "outputs": []
    },
    {
      "cell_type": "code",
      "source": [
        "list_cont[3]= 33"
      ],
      "metadata": {
        "id": "UTVjdTnxqCHj"
      },
      "execution_count": null,
      "outputs": []
    },
    {
      "cell_type": "code",
      "source": [
        "list_cont[3]"
      ],
      "metadata": {
        "colab": {
          "base_uri": "https://localhost:8080/"
        },
        "id": "ASjRhzQvruVE",
        "outputId": "bd6dcf54-34c5-4556-ee95-b54c12862780"
      },
      "execution_count": null,
      "outputs": [
        {
          "output_type": "execute_result",
          "data": {
            "text/plain": [
              "33"
            ]
          },
          "metadata": {},
          "execution_count": 37
        }
      ]
    },
    {
      "cell_type": "markdown",
      "source": [
        "Write a program that performs basic arithmetic operations on two user-input numbers."
      ],
      "metadata": {
        "id": "5OKGwenosUHh"
      }
    },
    {
      "cell_type": "code",
      "source": [
        "num1=int(input('enter first number:'))\n",
        "num2=int(input('enter second number:'))\n",
        "\n",
        "print(\"Addition:\", num1 + num2)\n",
        "print(\"Subtraction:\", num1 - num2)\n",
        "print(\"Multiplication:\", num1 * num2)\n",
        "print(\"Division:\", num1 / num2)\n",
        "\n",
        "\n",
        "\n"
      ],
      "metadata": {
        "colab": {
          "base_uri": "https://localhost:8080/"
        },
        "id": "7fggCQi6ryF6",
        "outputId": "acfed3ef-7915-4481-a92f-8e6c11952647"
      },
      "execution_count": null,
      "outputs": [
        {
          "output_type": "stream",
          "name": "stdout",
          "text": [
            "enter first number:77\n",
            "enter second number:88\n",
            "Addition: 165\n",
            "Subtraction: -11\n",
            "Multiplication: 6776\n",
            "Division: 0.875\n"
          ]
        }
      ]
    },
    {
      "cell_type": "markdown",
      "source": [
        "Write a program to demonstrate the use of logical operators."
      ],
      "metadata": {
        "id": "KOWrFnMfuOqP"
      }
    },
    {
      "cell_type": "code",
      "source": [
        "a=True\n",
        "b=False\n",
        "\n",
        "print(a or b)\n",
        "print(a and b)"
      ],
      "metadata": {
        "colab": {
          "base_uri": "https://localhost:8080/"
        },
        "id": "5O0VVOeNuHbb",
        "outputId": "6063fa78-b1a5-4a2a-80d4-6d24b5625311"
      },
      "execution_count": null,
      "outputs": [
        {
          "output_type": "stream",
          "name": "stdout",
          "text": [
            "True\n",
            "False\n"
          ]
        }
      ]
    },
    {
      "cell_type": "markdown",
      "source": [
        "Write a Python program to convert user input from string to integer, float, and boolean types."
      ],
      "metadata": {
        "id": "eQxnied0wrAS"
      }
    },
    {
      "cell_type": "code",
      "source": [
        "user_input=input('enter a value')\n",
        "print('integer:',int(user_input))\n",
        "print('float:',float(user_input))\n",
        "print('boolean:',bool(user_input))\n"
      ],
      "metadata": {
        "colab": {
          "base_uri": "https://localhost:8080/"
        },
        "id": "5utw9OaKwj1e",
        "outputId": "64f6d878-353d-46ee-f7c1-e175ebc354a1"
      },
      "execution_count": null,
      "outputs": [
        {
          "output_type": "stream",
          "name": "stdout",
          "text": [
            "enter a value33\n",
            "float: 33.0\n",
            "boolean: True\n"
          ]
        }
      ]
    },
    {
      "cell_type": "markdown",
      "source": [
        "Write code to demonstrate type casting with list elements."
      ],
      "metadata": {
        "id": "5xzUmRdcyjpk"
      }
    },
    {
      "cell_type": "code",
      "source": [
        "data=[\"22\",'45.9','true','akshay']\n",
        "int_val=int(data[0])\n",
        "float_val=float(data[1])\n",
        "bool_val=bool(data[2])\n",
        "str_val=str(data[3])\n",
        "\n",
        "print(int_val)\n",
        "print(float_val)\n",
        "print(bool_val)\n",
        "print(str_val)"
      ],
      "metadata": {
        "colab": {
          "base_uri": "https://localhost:8080/"
        },
        "id": "xpoS-eQRydy8",
        "outputId": "abb66d28-03e4-4890-d4b8-8e7e26af5777"
      },
      "execution_count": null,
      "outputs": [
        {
          "output_type": "stream",
          "name": "stdout",
          "text": [
            "22\n",
            "45.9\n",
            "True\n",
            "akshay\n"
          ]
        }
      ]
    },
    {
      "cell_type": "markdown",
      "source": [
        " Write a program that checks if a number is positive, negative, or zero."
      ],
      "metadata": {
        "id": "4VRMpJ6e17sM"
      }
    },
    {
      "cell_type": "code",
      "source": [
        "num=int(input('enter a number:'))\n",
        "if num > 0:\n",
        "  print('positive')\n",
        "elif num < 0:\n",
        "  print('negetive')"
      ],
      "metadata": {
        "colab": {
          "base_uri": "https://localhost:8080/"
        },
        "id": "TWf87zn61x6Q",
        "outputId": "5f4d9541-c755-4452-888d-26841747c1eb"
      },
      "execution_count": null,
      "outputs": [
        {
          "output_type": "stream",
          "name": "stdout",
          "text": [
            "enter a number:200\n",
            "positive\n"
          ]
        }
      ]
    },
    {
      "cell_type": "markdown",
      "source": [
        "Write a for loop to print numbers from 1 to 10."
      ],
      "metadata": {
        "id": "NJ5k2mtZ2oxY"
      }
    },
    {
      "cell_type": "code",
      "source": [
        "for a in range(1, 11):\n",
        "  print(a)"
      ],
      "metadata": {
        "colab": {
          "base_uri": "https://localhost:8080/"
        },
        "id": "mTeISjel2gOL",
        "outputId": "a82e5921-21a2-4002-cc0d-9fc4112ba1d6"
      },
      "execution_count": null,
      "outputs": [
        {
          "output_type": "stream",
          "name": "stdout",
          "text": [
            "1\n",
            "2\n",
            "3\n",
            "4\n",
            "5\n",
            "6\n",
            "7\n",
            "8\n",
            "9\n",
            "10\n"
          ]
        }
      ]
    },
    {
      "cell_type": "markdown",
      "source": [
        "Write a Python program to find the sum of all even numbers between 1 and 50."
      ],
      "metadata": {
        "id": "KlZeTcZi3B9B"
      }
    },
    {
      "cell_type": "code",
      "source": [
        "sum_even=2\n",
        "for num in range(1 , 50):\n",
        "    if num % 2== 0:\n",
        "     sum_even +=num\n",
        "\n",
        "    print('even number from 1 to 50:',sum_even)\n"
      ],
      "metadata": {
        "colab": {
          "base_uri": "https://localhost:8080/"
        },
        "id": "RAtE7u0n24TI",
        "outputId": "0fe0a7a8-2a21-48d7-dbdf-3dbbc9365299"
      },
      "execution_count": null,
      "outputs": [
        {
          "output_type": "stream",
          "name": "stdout",
          "text": [
            "even number from 1 to 50: 2\n",
            "even number from 1 to 50: 4\n",
            "even number from 1 to 50: 4\n",
            "even number from 1 to 50: 8\n",
            "even number from 1 to 50: 8\n",
            "even number from 1 to 50: 14\n",
            "even number from 1 to 50: 14\n",
            "even number from 1 to 50: 22\n",
            "even number from 1 to 50: 22\n",
            "even number from 1 to 50: 32\n",
            "even number from 1 to 50: 32\n",
            "even number from 1 to 50: 44\n",
            "even number from 1 to 50: 44\n",
            "even number from 1 to 50: 58\n",
            "even number from 1 to 50: 58\n",
            "even number from 1 to 50: 74\n",
            "even number from 1 to 50: 74\n",
            "even number from 1 to 50: 92\n",
            "even number from 1 to 50: 92\n",
            "even number from 1 to 50: 112\n",
            "even number from 1 to 50: 112\n",
            "even number from 1 to 50: 134\n",
            "even number from 1 to 50: 134\n",
            "even number from 1 to 50: 158\n",
            "even number from 1 to 50: 158\n",
            "even number from 1 to 50: 184\n",
            "even number from 1 to 50: 184\n",
            "even number from 1 to 50: 212\n",
            "even number from 1 to 50: 212\n",
            "even number from 1 to 50: 242\n",
            "even number from 1 to 50: 242\n",
            "even number from 1 to 50: 274\n",
            "even number from 1 to 50: 274\n",
            "even number from 1 to 50: 308\n",
            "even number from 1 to 50: 308\n",
            "even number from 1 to 50: 344\n",
            "even number from 1 to 50: 344\n",
            "even number from 1 to 50: 382\n",
            "even number from 1 to 50: 382\n",
            "even number from 1 to 50: 422\n",
            "even number from 1 to 50: 422\n",
            "even number from 1 to 50: 464\n",
            "even number from 1 to 50: 464\n",
            "even number from 1 to 50: 508\n",
            "even number from 1 to 50: 508\n",
            "even number from 1 to 50: 554\n",
            "even number from 1 to 50: 554\n",
            "even number from 1 to 50: 602\n",
            "even number from 1 to 50: 602\n"
          ]
        }
      ]
    },
    {
      "cell_type": "markdown",
      "source": [
        " Write a program to reverse a string using a while loop"
      ],
      "metadata": {
        "id": "A2f4fWLq9gEs"
      }
    },
    {
      "cell_type": "code",
      "source": [
        "text=input('enter a string')\n",
        "\n",
        "reversed_text=''\n",
        "index=len(text)-1\n",
        "while index >=0:\n",
        "  reversed_text+=text[index]\n",
        "  index-=1\n",
        "  print(reversed_text)"
      ],
      "metadata": {
        "colab": {
          "base_uri": "https://localhost:8080/"
        },
        "id": "9eUtA1e49XHA",
        "outputId": "556604f6-5a8e-4040-9a4c-e11c1ce6fef6"
      },
      "execution_count": null,
      "outputs": [
        {
          "output_type": "stream",
          "name": "stdout",
          "text": [
            "enter a stringindex\n",
            "x\n",
            "xe\n",
            "xed\n",
            "xedn\n",
            "xedni\n"
          ]
        }
      ]
    },
    {
      "cell_type": "markdown",
      "source": [
        " Write a Python program to calculate the factorial of a number provided by the user using a while loop.\n"
      ],
      "metadata": {
        "id": "0WmLS2fN-oj-"
      }
    },
    {
      "cell_type": "code",
      "source": [],
      "metadata": {
        "id": "_fqTKi5N-9NT"
      },
      "execution_count": null,
      "outputs": []
    }
  ]
}