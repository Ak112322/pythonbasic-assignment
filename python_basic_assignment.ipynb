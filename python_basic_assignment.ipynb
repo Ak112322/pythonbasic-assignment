{
  "nbformat": 4,
  "nbformat_minor": 0,
  "metadata": {
    "colab": {
      "provenance": []
    },
    "kernelspec": {
      "name": "python3",
      "display_name": "Python 3"
    },
    "language_info": {
      "name": "python"
    }
  },
  "cells": [
    {
      "cell_type": "markdown",
      "source": [
        "# What is Python, and why is it popular\n",
        "\n",
        "* Python is a programming language which was created by Guido van Rossum in 1991.\n",
        "  it is widely use in the industry due to its userfriendly interface.\n",
        "* It is popular because it is beginner friengly.\n",
        "* It is versatile as it used in web development,data science,game development etc.\n",
        "* It also works on every platform such as windows,Mac,Linux etc."
      ],
      "metadata": {
        "id": "e_U-6IfneJdc"
      }
    },
    {
      "cell_type": "markdown",
      "source": [
        "#  What is an interpreter in Python\n",
        "\n",
        "   * An interpreter is a translator of codes in python.It reads and executes the codes\n",
        "    and convert them into machine langhage."
      ],
      "metadata": {
        "id": "q2iCLMXJeOuV"
      }
    },
    {
      "cell_type": "markdown",
      "source": [
        "# What are pre-defined keywords in Python\n",
        "\n",
        " * Pre defined keywords are the words that hold special meanings and have special purpose in python."
      ],
      "metadata": {
        "id": "Quwv_qN0eDk9"
      }
    },
    {
      "cell_type": "markdown",
      "source": [
        " # Can keywords be used as variable names\n",
        "\n",
        "  * No,keywords cannot be used as variable names."
      ],
      "metadata": {
        "id": "BEK5J0_Fd-vU"
      }
    },
    {
      "cell_type": "markdown",
      "source": [
        "# What is mutability in Python\n",
        "\n",
        " * Mutability is the ability to change the value of a object after it is created."
      ],
      "metadata": {
        "id": "YYAA594Md6aI"
      }
    },
    {
      "cell_type": "markdown",
      "source": [
        "# Why are lists mutable, but tuples are immutable\n",
        "\n",
        " * List are designed for dynamic data.You can add,remove or change elements after the are created.\n",
        " * Tuples are designed for static data.You cannot add,remove or make changes after they are created."
      ],
      "metadata": {
        "id": "iX4nMeoOdqLw"
      }
    },
    {
      "cell_type": "markdown",
      "source": [
        "#  What is the difference between “==” and “is”     operators in Python\n",
        "\n",
        "* == operation compares values of two obects.\n",
        "* is operation compares memory location of the object."
      ],
      "metadata": {
        "id": "bfMfgtYeLNJr"
      }
    },
    {
      "cell_type": "code",
      "source": [
        "a=(1,2,3)\n",
        "b=(1,2,3)\n",
        "print(a==b)"
      ],
      "metadata": {
        "colab": {
          "base_uri": "https://localhost:8080/"
        },
        "id": "_8MX7ezzLhWd",
        "outputId": "ddc6c5b0-c4cc-4bac-f75d-d51fb34a821a"
      },
      "execution_count": null,
      "outputs": [
        {
          "output_type": "stream",
          "name": "stdout",
          "text": [
            "True\n"
          ]
        }
      ]
    },
    {
      "cell_type": "code",
      "source": [
        "a=(1,2,3)\n",
        "b=(1,2,3)\n",
        "a=b\n",
        "print(a is b)"
      ],
      "metadata": {
        "colab": {
          "base_uri": "https://localhost:8080/"
        },
        "id": "aEI4NCmTMBU6",
        "outputId": "cd7be015-957e-4ac6-ccc1-8160ea804912"
      },
      "execution_count": null,
      "outputs": [
        {
          "output_type": "stream",
          "name": "stdout",
          "text": [
            "True\n"
          ]
        }
      ]
    },
    {
      "cell_type": "markdown",
      "source": [
        "#  What are logical operators in Python\n",
        "   \n",
        "   * Logical operators are used to combine or compare conditation statements."
      ],
      "metadata": {
        "id": "k89265MbMfIz"
      }
    },
    {
      "cell_type": "code",
      "source": [
        "a=5\n",
        "b=3\n",
        "if a > 3 and b < 5:\n",
        "  print('true')"
      ],
      "metadata": {
        "colab": {
          "base_uri": "https://localhost:8080/"
        },
        "id": "7Z5vyL9bMHx_",
        "outputId": "f6843f6e-4bfb-4ec2-ac9a-b5064729203f"
      },
      "execution_count": null,
      "outputs": [
        {
          "output_type": "stream",
          "name": "stdout",
          "text": [
            "true\n"
          ]
        }
      ]
    },
    {
      "cell_type": "markdown",
      "source": [
        "#  What is type casting in Python\n",
        "  \n",
        "  * Type casting is the process of changing the data type of variables to another type.\n"
      ],
      "metadata": {
        "id": "P7REFf7uOcp2"
      }
    },
    {
      "cell_type": "code",
      "source": [
        "a=23\n",
        "b=int(a)\n",
        "c=float(b)\n",
        "\n",
        "print(b)\n",
        "print(c)"
      ],
      "metadata": {
        "colab": {
          "base_uri": "https://localhost:8080/"
        },
        "id": "8hEqhgXYObyx",
        "outputId": "0dbb95c8-0a80-4247-b92c-abe3688bd3f1"
      },
      "execution_count": null,
      "outputs": [
        {
          "output_type": "stream",
          "name": "stdout",
          "text": [
            "23\n",
            "23.0\n"
          ]
        }
      ]
    },
    {
      "cell_type": "markdown",
      "source": [
        "#  What is the difference between implicit and explicit type casting\n",
        "\n",
        "* Implicit type casting hepls to convert values between data.It is done by python automatically.No need to write any code.\n",
        "\n",
        "* Explicit type casting is done manually usind in built code like- int(),float(),str()."
      ],
      "metadata": {
        "id": "VWiiKLMRP51f"
      }
    },
    {
      "cell_type": "markdown",
      "source": [
        "#  What is the purpose of conditional statements in Python\n",
        "\n",
        " * Conditional statements helps the python codes to make correct decision."
      ],
      "metadata": {
        "id": "60aqnusgRaDX"
      }
    },
    {
      "cell_type": "code",
      "source": [
        "a=20\n",
        "b=15\n",
        "if a >= b:\n",
        "  print('a is greater than b')\n"
      ],
      "metadata": {
        "colab": {
          "base_uri": "https://localhost:8080/"
        },
        "id": "aP0WBHMxPhpJ",
        "outputId": "f26b396a-85cd-4101-e1c2-9e89dcaec0ca"
      },
      "execution_count": null,
      "outputs": [
        {
          "output_type": "stream",
          "name": "stdout",
          "text": [
            "a is greater than b\n"
          ]
        }
      ]
    },
    {
      "cell_type": "markdown",
      "source": [
        "#  How does the elif statement work\n",
        "   \n",
        "   * The elif statement stands for'else if'.It helps to check multiple conditions one after nother."
      ],
      "metadata": {
        "id": "fYbxpENqTAfn"
      }
    },
    {
      "cell_type": "code",
      "source": [
        "a=44\n",
        "if a >=40:\n",
        "  print('yes')\n",
        "elif a >=30:\n",
        "  print('no')\n",
        "elif a >= 35:\n",
        "  print('maybe')"
      ],
      "metadata": {
        "colab": {
          "base_uri": "https://localhost:8080/"
        },
        "id": "jIgS6e5TS6cN",
        "outputId": "69e94e4b-09a3-4f1f-996e-2d8c022b9f39"
      },
      "execution_count": null,
      "outputs": [
        {
          "output_type": "stream",
          "name": "stdout",
          "text": [
            "yes\n"
          ]
        }
      ]
    },
    {
      "cell_type": "markdown",
      "source": [
        "# What is the difference between for and while loops\n",
        "  \n",
        "  * For is used when you know how many times you want to loop. Often used with sequences like lists,string or range.\n",
        "\n",
        "  * While keeps looping as long as the condition is true."
      ],
      "metadata": {
        "id": "KQANn-3lYCIT"
      }
    },
    {
      "cell_type": "markdown",
      "source": [
        "# Describe a scenario where a while loop is more suitable than a for loop.\n",
        "\n",
        " * If you are building a login feature where user must enter the correct password to proceed.You don't know how many times it may get wrong so a while loop is perfect for this as it keeps running until the condition is correct."
      ],
      "metadata": {
        "id": "LIjsQwliaUs0"
      }
    },
    {
      "cell_type": "code",
      "source": [],
      "metadata": {
        "id": "S5-itc0Qez35"
      },
      "execution_count": null,
      "outputs": []
    }
  ]
}